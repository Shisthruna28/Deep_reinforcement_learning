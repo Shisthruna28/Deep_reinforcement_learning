{
 "cells": [
  {
   "cell_type": "code",
   "execution_count": 24,
   "metadata": {},
   "outputs": [],
   "source": [
    "import numpy as np\n",
    "import matplotlib.pyplot as plt\n",
    "import gym\n",
    "import sys\n",
    "from collections import deque,namedtuple\n",
    "from itertools import count\n",
    "import random\n",
    "import math\n",
    "from IPython.core.debugger import set_trace\n",
    "import torch\n",
    "import torch.nn as nn\n",
    "import torch.optim as optim\n",
    "from torch.autograd import Variable\n",
    "from tensorboardX import SummaryWriter"
   ]
  },
  {
   "cell_type": "code",
   "execution_count": 25,
   "metadata": {},
   "outputs": [
    {
     "name": "stdout",
     "output_type": "stream",
     "text": [
      "cpu\n"
     ]
    }
   ],
   "source": [
    "device = torch.device('cuda' if torch.cuda.is_available() else 'cpu')\n",
    "print(device)"
   ]
  },
  {
   "cell_type": "code",
   "execution_count": 26,
   "metadata": {},
   "outputs": [
    {
     "name": "stdout",
     "output_type": "stream",
     "text": [
      "\u001b[33mWARN: gym.spaces.Box autodetected dtype as <class 'numpy.float32'>. Please provide explicit dtype.\u001b[0m\n",
      "action_size 2\n",
      "state_size 4\n"
     ]
    }
   ],
   "source": [
    "env = gym.make('CartPole-v0').unwrapped\n",
    "n_states = env.observation_space.shape[0]\n",
    "n_actions = env.action_space.n\n",
    "print(\"action_size\",n_actions)\n",
    "print(\"state_size\",n_states)"
   ]
  },
  {
   "cell_type": "code",
   "execution_count": 38,
   "metadata": {},
   "outputs": [],
   "source": [
    "class ReplayBuffer:\n",
    "    def __init__(self, buffer_size, batch_size, seed):\n",
    "        \n",
    "        self.memory = deque(maxlen=buffer_size)  \n",
    "        self.batch_size = batch_size\n",
    "        self.experience = namedtuple(\"Experience\", field_names=[\"state\", \"action\", \"reward\", \"next_state\", \"done\"])\n",
    "    \n",
    "    def add(self, state, action, reward, next_state, done):\n",
    "        \n",
    "        e = self.experience(state, action, reward, next_state, done)\n",
    "        self.memory.append(e)\n",
    "        \n",
    "    def sample(self):\n",
    "        \n",
    "        experiences = random.sample(self.memory, k=self.batch_size)\n",
    "        states = torch.from_numpy(np.vstack([e.state for e in experiences if e is not None])).float().to(device)\n",
    "        actions = torch.from_numpy(np.vstack([e.action for e in experiences if e is not None])).long().to(device)\n",
    "        rewards = torch.from_numpy(np.hstack([e.reward for e in experiences if e is not None])).float().to(device)\n",
    "        next_states = torch.from_numpy(np.vstack([e.next_state for e in experiences if e is not None])).float().to(device)\n",
    "        dones = torch.from_numpy(np.hstack([e.done for e in experiences if e is not None]).astype(np.uint8)).float().to(device)\n",
    "        \n",
    "        return (states, actions, rewards, next_states, dones)\n",
    "\n",
    "    def __len__(self):\n",
    "        return len(self.memory)"
   ]
  },
  {
   "cell_type": "code",
   "execution_count": 39,
   "metadata": {},
   "outputs": [],
   "source": [
    "# DQN network\n",
    "\n",
    "class DQN(nn.Module):\n",
    "    \n",
    "    def __init__(self, n_states, n_actions):\n",
    "        \n",
    "        super(DQN, self).__init__()\n",
    "        \n",
    "        self._fc1 = nn.Linear(in_features=n_states, out_features=24)\n",
    "        self._relu1 = nn.ReLU()\n",
    "        self._fc2 = nn.Linear(in_features=24, out_features=24)\n",
    "        self._relu2 = nn.ReLU()\n",
    "        self._fc3 = nn.Linear(in_features=24, out_features=n_actions)\n",
    "        \n",
    "        \n",
    "    def forward(self, x):\n",
    "        \n",
    "        \n",
    "        x = self._fc1(x)\n",
    "        x = self._relu1(x)\n",
    "        x = self._fc2(x)\n",
    "        x = self._relu2(x)        \n",
    "        x = self._fc3(x)\n",
    "        \n",
    "        return x"
   ]
  },
  {
   "cell_type": "code",
   "execution_count": 29,
   "metadata": {},
   "outputs": [],
   "source": [
    "def epsilon_greedy_policy(policy_net, elapsed_time, state):\n",
    "\n",
    "    epsilon_val = EPS_END + (EPS_START - EPS_END) * math.exp(-1. * elapsed_time/ EPS_DECAY)\n",
    "  \n",
    "    \n",
    "    if random.random() <= epsilon_val:\n",
    "        return env.action_space.sample()\n",
    "        \n",
    "    return policy_net(state).max(1)[1].view(1, 1).item()\n"
   ]
  },
  {
   "cell_type": "code",
   "execution_count": 40,
   "metadata": {},
   "outputs": [],
   "source": [
    "def fit(episode):       \n",
    "\n",
    "    states, actions, rewards, next_states, done = experience_replay.sample()\n",
    "    Q_s_a = policy_net(states).squeeze().gather(1, actions)\n",
    "    Q_next_s_a = target_net(next_states).squeeze().detach().max(1)[0]    \n",
    "    Q_target = rewards + GAMMA * Q_next_s_a * (1.0 - done)\n",
    "    TD_error = criterion(Q_s_a, Q_target.unsqueeze(1))\n",
    "    optimizer.zero_grad()\n",
    "    TD_error.backward()\n",
    "    optimizer.step()\n",
    "    \n",
    "    return TD_error.item()\n",
    "    \n",
    "        "
   ]
  },
  {
   "cell_type": "code",
   "execution_count": 41,
   "metadata": {},
   "outputs": [],
   "source": [
    "# Network Parameter initialization\n",
    "policy_net=DQN(n_states,n_actions).to(device)\n",
    "target_net=DQN(n_states,n_actions).to(device)\n",
    "target_net.load_state_dict(policy_net.state_dict())\n",
    "target_net.eval()\n",
    "criterion=nn.MSELoss().to(device)\n",
    "optimizer=optim.Adam(policy_net.parameters(),lr=0.001)"
   ]
  },
  {
   "cell_type": "code",
   "execution_count": 46,
   "metadata": {},
   "outputs": [],
   "source": [
    "# Hyperparameter update \n",
    "buffer_size=10000\n",
    "BATCH_SIZE = 32\n",
    "random_seed=121\n",
    "GAMMA     = 0.95\n",
    "EPS_START = 1.0\n",
    "EPS_END = 0.01\n",
    "EPS_DECAY = 1000 # After 1k steps epsilon is fixed to 0.01\n",
    "num_episodes = 100\n",
    "TARGET_UPDATE = 100 # 1st priority in tuning\n",
    "prev_state = None\n",
    "episodes = []\n",
    "scores_per_episode = []\n",
    "steps_done = 0\n",
    "experience_replay = ReplayBuffer(buffer_size,BATCH_SIZE,random_seed) "
   ]
  },
  {
   "cell_type": "code",
   "execution_count": 53,
   "metadata": {},
   "outputs": [
    {
     "name": "stdout",
     "output_type": "stream",
     "text": [
      "Episode 0 with reward 194.0 in 193 iterations\n",
      "Episode 1 with reward 927.0 in 926 iterations\n",
      "Episode 2 with reward 100.0 in 99 iterations\n",
      "Episode 3 with reward 138.0 in 137 iterations\n",
      "Episode 4 with reward 171.0 in 170 iterations\n",
      "Episode 5 with reward 2693.0 in 2692 iterations\n"
     ]
    }
   ],
   "source": [
    "for episode in range(num_episodes):\n",
    "    \n",
    "    state = env.reset()\n",
    "    state = np.reshape(state, (1, n_states))\n",
    "    done = False\n",
    "    reward = 0\n",
    "    score = 0\n",
    "    \n",
    "    for n in count():\n",
    "        a = torch.FloatTensor(state)        \n",
    "        action = epsilon_greedy_policy(policy_net, steps_done, a.to(device))\n",
    "        steps_done +=1\n",
    "        next_state, reward, done, _ = env.step(action)\n",
    "\n",
    "        if done:\n",
    "            next_state = np.zeros(np.shape(state))\n",
    "        else:\n",
    "            next_state = np.reshape(next_state, (1, n_states))\n",
    "        \n",
    "        score += reward       \n",
    "\n",
    "        experience_replay.add(state, action, reward, next_state, done)\n",
    "        \n",
    "        state = next_state\n",
    "\n",
    "            \n",
    "        if done:\n",
    "            \n",
    "            scores_per_episode.append(score)\n",
    "            print(f'Episode {episode} with reward {score} in {n} iterations')\n",
    "            \n",
    "            break\n",
    "            \n",
    "        if len(experience_replay.memory) > BATCH_SIZE:\n",
    "\n",
    "            loss = fit(steps_done)\n",
    "           \n",
    "            \n",
    "        if steps_done % TARGET_UPDATE == 0:\n",
    "            target_net.load_state_dict(policy_net.state_dict())\n",
    "    \n",
    "    if score>2000:\n",
    "        break\n",
    "    \n",
    "\n",
    "    "
   ]
  },
  {
   "cell_type": "code",
   "execution_count": 55,
   "metadata": {},
   "outputs": [
    {
     "name": "stdout",
     "output_type": "stream",
     "text": [
      "total reward obtained is 2702.0\n"
     ]
    }
   ],
   "source": [
    "# play using trained network\n",
    "state = env.reset()\n",
    "state = np.reshape(state, (1, n_states))\n",
    "returns = 0    \n",
    "for n in count():\n",
    "        a = torch.FloatTensor(state)        \n",
    "        action = epsilon_greedy_policy(policy_net, steps_done, a.to(device))\n",
    "        steps_done +=1\n",
    "        next_state, reward, done, _ = env.step(action)\n",
    "        if done:\n",
    "            next_state = np.zeros(np.shape(state))\n",
    "        else:\n",
    "            next_state = np.reshape(next_state, (1, n_states))\n",
    "        score += reward            \n",
    "        if done:\n",
    "            print(f'total reward obtained is {score}')            \n",
    "            break\n",
    "        "
   ]
  },
  {
   "cell_type": "code",
   "execution_count": null,
   "metadata": {},
   "outputs": [],
   "source": []
  }
 ],
 "metadata": {
  "kernelspec": {
   "display_name": "Python 3",
   "language": "python",
   "name": "python3"
  },
  "language_info": {
   "codemirror_mode": {
    "name": "ipython",
    "version": 3
   },
   "file_extension": ".py",
   "mimetype": "text/x-python",
   "name": "python",
   "nbconvert_exporter": "python",
   "pygments_lexer": "ipython3",
   "version": "3.6.6"
  }
 },
 "nbformat": 4,
 "nbformat_minor": 2
}
